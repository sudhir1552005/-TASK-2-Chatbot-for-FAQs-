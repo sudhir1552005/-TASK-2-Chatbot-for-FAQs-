{
  "nbformat": 4,
  "nbformat_minor": 0,
  "metadata": {
    "colab": {
      "provenance": []
    },
    "kernelspec": {
      "name": "python3",
      "display_name": "Python 3"
    },
    "language_info": {
      "name": "python"
    }
  },
  "cells": [
    {
      "cell_type": "code",
      "source": [
        "# ✅ Text Preprocessing using SpaCy (No punkt_tab errors)\n",
        "\n",
        "# Step 1: Install SpaCy and download English model\n",
        "!pip install -U spacy --quiet\n",
        "!python -m spacy download en_core_web_sm\n",
        "\n",
        "# Step 2: Import libraries\n",
        "import spacy\n",
        "\n",
        "# Load SpaCy English model\n",
        "nlp = spacy.load(\"en_core_web_sm\")\n",
        "\n",
        "# Step 3: Sample text\n",
        "text = \"Natural Language Processing (NLP) is a fascinating field. It helps computers understand human language!\"\n",
        "\n",
        "# Step 4: Preprocessing function\n",
        "def preprocess_text_spacy(text):\n",
        "    doc = nlp(text.lower())\n",
        "    tokens = [token.lemma_ for token in doc if not token.is_stop and not token.is_punct]\n",
        "    return tokens\n",
        "\n",
        "# Step 5: Run preprocessing\n",
        "processed_tokens = preprocess_text_spacy(text)\n",
        "print(\"Processed Tokens:\", processed_tokens)\n"
      ],
      "metadata": {
        "colab": {
          "base_uri": "https://localhost:8080/"
        },
        "id": "f7-kaqnpLrgn",
        "outputId": "ed023bdd-56eb-457c-e018-778d9e622b1f"
      },
      "execution_count": 5,
      "outputs": [
        {
          "output_type": "stream",
          "name": "stdout",
          "text": [
            "Collecting en-core-web-sm==3.8.0\n",
            "  Downloading https://github.com/explosion/spacy-models/releases/download/en_core_web_sm-3.8.0/en_core_web_sm-3.8.0-py3-none-any.whl (12.8 MB)\n",
            "\u001b[2K     \u001b[90m━━━━━━━━━━━━━━━━━━━━━━━━━━━━━━━━━━━━━━━━\u001b[0m \u001b[32m12.8/12.8 MB\u001b[0m \u001b[31m69.8 MB/s\u001b[0m eta \u001b[36m0:00:00\u001b[0m\n",
            "\u001b[?25h\u001b[38;5;2m✔ Download and installation successful\u001b[0m\n",
            "You can now load the package via spacy.load('en_core_web_sm')\n",
            "\u001b[38;5;3m⚠ Restart to reload dependencies\u001b[0m\n",
            "If you are in a Jupyter or Colab notebook, you may need to restart Python in\n",
            "order to load all the package's dependencies. You can do this by selecting the\n",
            "'Restart kernel' or 'Restart runtime' option.\n",
            "Processed Tokens: ['natural', 'language', 'processing', 'nlp', 'fascinating', 'field', 'help', 'computer', 'understand', 'human', 'language']\n"
          ]
        }
      ]
    }
  ]
}