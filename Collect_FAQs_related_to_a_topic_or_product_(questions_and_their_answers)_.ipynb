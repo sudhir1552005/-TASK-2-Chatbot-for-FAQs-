{
  "nbformat": 4,
  "nbformat_minor": 0,
  "metadata": {
    "colab": {
      "provenance": []
    },
    "kernelspec": {
      "name": "python3",
      "display_name": "Python 3"
    },
    "language_info": {
      "name": "python"
    }
  },
  "cells": [
    {
      "cell_type": "code",
      "source": [
        "# Chatbot for FAQs using a rule-based approach\n",
        "\n",
        "# Step 1: Define FAQ data (you can expand this list)\n",
        "faq_data = {\n",
        "    \"what is your return policy\": \"Our return policy allows returns within 30 days of purchase.\",\n",
        "    \"how long does shipping take\": \"Shipping usually takes 3-5 business days.\",\n",
        "    \"how can I track my order\": \"You can track your order using the tracking link sent to your email.\",\n",
        "    \"do you ship internationally\": \"Yes, we ship to most countries worldwide.\",\n",
        "    \"what payment methods are accepted\": \"We accept credit cards, debit cards, and PayPal.\",\n",
        "    \"how can I contact customer support\": \"You can contact support at support@example.com.\",\n",
        "}\n",
        "\n",
        "# Step 2: Function to find best match\n",
        "def get_answer(user_question):\n",
        "    user_question = user_question.lower().strip()\n",
        "\n",
        "    for question in faq_data:\n",
        "        if user_question in question or question in user_question:\n",
        "            return faq_data[question]\n",
        "\n",
        "    return \"Sorry, I couldn't find an answer to your question.\"\n",
        "\n",
        "# Step 3: Chat loop\n",
        "print(\"Welcome to the FAQ Chatbot! Type 'exit' to stop.\")\n",
        "\n",
        "while True:\n",
        "    user_input = input(\"\\nYou: \")\n",
        "    if user_input.lower() == \"exit\":\n",
        "        print(\"Chatbot: Thank you! Have a great day.\")\n",
        "        break\n",
        "\n",
        "    response = get_answer(user_input)\n",
        "    print(\"Chatbot:\", response)\n"
      ],
      "metadata": {
        "colab": {
          "base_uri": "https://localhost:8080/"
        },
        "id": "aU-zn15CJJMt",
        "outputId": "a60bf56b-c1f7-4efb-8e0e-1926a6dcec51"
      },
      "execution_count": 5,
      "outputs": [
        {
          "output_type": "stream",
          "name": "stdout",
          "text": [
            "Welcome to the FAQ Chatbot! Type 'exit' to stop.\n",
            "\n",
            "You: do you ship internationally\n",
            "Chatbot: Yes, we ship to most countries worldwide.\n",
            "\n",
            "You: exit\n",
            "Chatbot: Thank you! Have a great day.\n"
          ]
        }
      ]
    }
  ]
}